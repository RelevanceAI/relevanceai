{
 "cells": [
  {
   "cell_type": "markdown",
   "id": "5222c224",
   "metadata": {},
   "source": [
    "As part of this notebook, we are going to build a **Gmail manager** using the relevanceai SDK! Before we get started, you might wonder - why should you care? \n",
    "\n",
    "The answer lies in the simplicity and UX of the platform. While you could [easily do this](https://relevanceai.com/academy) on the RelevanceAI platform itself, I wanted to showcase another way using just pure Python."
   ]
  },
  {
   "cell_type": "code",
   "execution_count": 1,
   "id": "5a399041",
   "metadata": {},
   "outputs": [],
   "source": [
    "%load_ext autoreload \n",
    "%autoreload 2"
   ]
  },
  {
   "cell_type": "code",
   "execution_count": 2,
   "id": "a2d7714a",
   "metadata": {},
   "outputs": [
    {
     "data": {
      "text/plain": [
       "True"
      ]
     },
     "execution_count": 2,
     "metadata": {},
     "output_type": "execute_result"
    }
   ],
   "source": [
    "import dotenv \n",
    "from relevanceai import RelevanceAI\n",
    "from tqdm.auto import tqdm\n",
    "\n",
    "dotenv.load_dotenv()"
   ]
  },
  {
   "cell_type": "markdown",
   "id": "2730205e",
   "metadata": {},
   "source": [
    "First, let's create the RelevanceAI client - this client allows us to interact with the platform, and we will be able to perform the following tasks:\n",
    "\n",
    "1. Create AI Agents/sub-agents\n",
    "2. Create tools (and connect tools to agents)\n",
    "3. Trigger tasks \n",
    "4. Get results (either in SDK/or in the RelevanceAI platform itself)\n",
    "\n",
    "You can create an API key, by scrolling to Integrations page - and clicking on \"**Create new secret key**\"."
   ]
  },
  {
   "cell_type": "markdown",
   "id": "2f929fa5",
   "metadata": {},
   "source": [
    "![](../assets/images/api_key.png)"
   ]
  },
  {
   "cell_type": "markdown",
   "id": "68787025",
   "metadata": {},
   "source": [
    "After creating the API key, I added it to my `.env` file with keys:\n",
    "\n",
    "```python\n",
    "{\n",
    "    \"RAI_API_KEY\": <api_key>\n",
    "    \"RAI_REGION\": <region>\n",
    "    \"RAI_PROJECT\": <project>\n",
    "}\n",
    "```\n",
    "\n",
    "Now, we can simply initialise our `client`, it automatically knows to look for these environment variables which got loaded using `dotenv`."
   ]
  },
  {
   "cell_type": "code",
   "execution_count": 3,
   "id": "d17b22eb",
   "metadata": {},
   "outputs": [],
   "source": [
    "relevanceai = RelevanceAI()"
   ]
  },
  {
   "cell_type": "markdown",
   "id": "055a16e5",
   "metadata": {},
   "source": [
    "To test that the initialization worked, we could list agents in this account! So, let's do that!"
   ]
  },
  {
   "cell_type": "code",
   "execution_count": 4,
   "id": "18c4e91f",
   "metadata": {},
   "outputs": [
    {
     "data": {
      "text/plain": [
       "[]"
      ]
     },
     "execution_count": 4,
     "metadata": {},
     "output_type": "execute_result"
    }
   ],
   "source": [
    "relevanceai.agents.list_agents()"
   ]
  },
  {
   "cell_type": "markdown",
   "id": "04865d39",
   "metadata": {},
   "source": [
    "I get an empty list - this means, there are no agents in my account so far. Let's create our \"**Gmail manager**\"."
   ]
  },
  {
   "cell_type": "code",
   "execution_count": 5,
   "id": "509e49df",
   "metadata": {},
   "outputs": [
    {
     "data": {
      "text/plain": [
       "Agent(agent_id=\"1582365a-f8fa-4d20-b867-76eabcdf85ff\", name=\"Gmail Manager\")"
      ]
     },
     "execution_count": 5,
     "metadata": {},
     "output_type": "execute_result"
    }
   ],
   "source": [
    "agent = relevanceai.agents.create_agent(name=\"Gmail Manager\")\n",
    "agent"
   ]
  },
  {
   "cell_type": "markdown",
   "id": "1007d5d5",
   "metadata": {},
   "source": [
    "By default, the relevance platform creates an agent with `gpt-4o-mini`, to use any other provider, we could just pass in another model in the `model` parameter!"
   ]
  },
  {
   "cell_type": "markdown",
   "id": "8baf4161",
   "metadata": {},
   "source": [
    "![](../assets/images/gmail_manager_agent.png)"
   ]
  },
  {
   "cell_type": "markdown",
   "id": "f39d48fe",
   "metadata": {},
   "source": [
    "Currently, this is an empty agent - without any instructions or knowledge of what it is really supposed to do. So, let's give it some core instructions! "
   ]
  },
  {
   "cell_type": "code",
   "execution_count": 6,
   "id": "99a12ac2",
   "metadata": {},
   "outputs": [],
   "source": [
    "instructions = \"\"\"You are my personal Gmail manager whose goal is to summarise my emails!\n",
    "\n",
    "You will be provided with the complete content of any new emails that land in my inbox. \n",
    "\n",
    "Your task is to summarise them with proper headings, follow the below format for summarization:\n",
    "\n",
    "# Subject: <subject from the email (verbatim)>\n",
    "## Key requests\n",
    "- Main requests/key highlights of the email as bullet points\n",
    "## Call to action\n",
    "- Any action items from my end as bullet points\n",
    "\n",
    "You must strictly adhere to the format.\n",
    "\"\"\""
   ]
  },
  {
   "cell_type": "markdown",
   "id": "5a468fa4",
   "metadata": {},
   "source": [
    "Now that we have defined the instructions, let's add them to our agent!"
   ]
  },
  {
   "cell_type": "code",
   "execution_count": 7,
   "id": "2db7f8a4",
   "metadata": {},
   "outputs": [
    {
     "data": {
      "text/plain": [
       "{'agent_id': '1582365a-f8fa-4d20-b867-76eabcdf85ff'}"
      ]
     },
     "execution_count": 7,
     "metadata": {},
     "output_type": "execute_result"
    }
   ],
   "source": [
    "agent.update_core_instructions(instructions)"
   ]
  },
  {
   "cell_type": "markdown",
   "id": "52bd9e5c",
   "metadata": {},
   "source": [
    "![](../assets/images/core_instructions.png)"
   ]
  },
  {
   "cell_type": "markdown",
   "id": "fefa12ed",
   "metadata": {},
   "source": [
    "As you can see, now the core instructions have been added to the agent! Great! "
   ]
  },
  {
   "cell_type": "code",
   "execution_count": 8,
   "id": "e2602124",
   "metadata": {},
   "outputs": [],
   "source": [
    "url = relevanceai.oauth.add_google_integration(auto_open=True)"
   ]
  },
  {
   "cell_type": "markdown",
   "id": "ae09deed",
   "metadata": {},
   "source": [
    "Running the above command opens a new tab in your browser - follow the instructions to allow RelevanceAI to have access to your Gmail account. Be rest assured, your private data is secure with us!"
   ]
  },
  {
   "cell_type": "markdown",
   "id": "51570e0e",
   "metadata": {},
   "source": [
    "![](../assets/images/integration.png)"
   ]
  },
  {
   "cell_type": "markdown",
   "id": "041f7d69",
   "metadata": {},
   "source": [
    "Now that RelevanceAI has access to the Gmail account, to allow the agent to work on the Gmail, we want to setup \"triggers\" on the AI agent.\n",
    "\n",
    "**What are triggers?**\n",
    "\n",
    "In simple words, triggers are events that \"trigger\" the agent - any time a new event has occured. For the Gmail manager, this event is anytime a new email is received on the account. To read more about triggers, you can refer to our documentation [here](https://relevanceai.com/docs/get-started/quickstart/integrations#triggers)."
   ]
  },
  {
   "cell_type": "markdown",
   "id": "dd47c1ce",
   "metadata": {},
   "source": [
    "So, now let's setup the trigger on the agent!"
   ]
  },
  {
   "cell_type": "code",
   "execution_count": 9,
   "id": "b83c1f46",
   "metadata": {},
   "outputs": [
    {
     "data": {
      "text/plain": [
       "ActiveIntegrations(results=[Integration(provider='google, email='meetaiwithaman@gmail.com'])"
      ]
     },
     "execution_count": 9,
     "metadata": {},
     "output_type": "execute_result"
    }
   ],
   "source": [
    "active_integrations = relevanceai.oauth.list_active_integrations()\n",
    "active_integrations"
   ]
  },
  {
   "cell_type": "markdown",
   "id": "c0a7ad3a",
   "metadata": {},
   "source": [
    "In the above, given we only have the active Gmail integration in our Relevance platform, there we have one \"active integration\"! From this integration, we will need the token etc to add a trigger to the AI agent. We can get the complete `google_integration_object` by simply using `getattr` on the `active_integrations` object."
   ]
  },
  {
   "cell_type": "code",
   "execution_count": 10,
   "id": "769ffdc8",
   "metadata": {},
   "outputs": [
    {
     "data": {
      "text/plain": [
       "Integration(provider='google, email='meetaiwithaman@gmail.com'"
      ]
     },
     "execution_count": 10,
     "metadata": {},
     "output_type": "execute_result"
    }
   ],
   "source": [
    "google_integration_object = getattr(active_integrations, \"google\")\n",
    "google_integration_object"
   ]
  },
  {
   "cell_type": "markdown",
   "id": "72b61535",
   "metadata": {},
   "source": [
    "Now, to add the following as trigger to our agent, we can pass in the complete `google_integration_object` object - and use the `add_google_trigger` method on the agent!"
   ]
  },
  {
   "cell_type": "code",
   "execution_count": 11,
   "id": "4740e44b",
   "metadata": {},
   "outputs": [
    {
     "data": {
      "text/plain": [
       "{'result': 'Success!'}"
      ]
     },
     "execution_count": 11,
     "metadata": {},
     "output_type": "execute_result"
    }
   ],
   "source": [
    "agent.add_google_trigger(google_integration_object)"
   ]
  },
  {
   "cell_type": "markdown",
   "id": "7e48b9ac",
   "metadata": {},
   "source": [
    "And now, this agent is active in the RelevanceAI platform and get's triggered any time a new email is received!"
   ]
  },
  {
   "cell_type": "markdown",
   "id": "ff2c086a",
   "metadata": {},
   "source": [
    "![](../assets/images/gmail_trigger.png)"
   ]
  },
  {
   "cell_type": "markdown",
   "id": "7f894863",
   "metadata": {},
   "source": [
    "We could also add more tools and create an end to end agent that can also send out emails! More on that, in our next tutorial!"
   ]
  }
 ],
 "metadata": {
  "kernelspec": {
   "display_name": "Python 3 (ipykernel)",
   "language": "python",
   "name": "python3"
  },
  "language_info": {
   "codemirror_mode": {
    "name": "ipython",
    "version": 3
   },
   "file_extension": ".py",
   "mimetype": "text/x-python",
   "name": "python",
   "nbconvert_exporter": "python",
   "pygments_lexer": "ipython3",
   "version": "3.12.7"
  },
  "toc": {
   "base_numbering": 1,
   "nav_menu": {},
   "number_sections": true,
   "sideBar": true,
   "skip_h1_title": false,
   "title_cell": "Table of Contents",
   "title_sidebar": "Contents",
   "toc_cell": false,
   "toc_position": {},
   "toc_section_display": true,
   "toc_window_display": false
  }
 },
 "nbformat": 4,
 "nbformat_minor": 5
}
